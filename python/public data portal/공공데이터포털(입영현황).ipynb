{
 "cells": [
  {
   "attachments": {},
   "cell_type": "markdown",
   "metadata": {},
   "source": [
    "### Public Data Portal Tutorial"
   ]
  },
  {
   "attachments": {},
   "cell_type": "markdown",
   "metadata": {},
   "source": [
    "Secret Key, Base Url"
   ]
  },
  {
   "cell_type": "code",
   "execution_count": 1,
   "metadata": {},
   "outputs": [],
   "source": [
    "SERVICE_KEY = r'y%2BYI%2F3eYALrp6Z4%2Ff%2FoPhqKdk6hRwGfJqfxHVj98JuneHV6EeE5NqPEWVdsnmd2Rs4LJv9hFoJhOgNbB6E0TBQ%3D%3D'\n",
    "BASE_URL = 'http://apis.data.go.kr/1300000/MJBGJWJeopSuHH3/list'"
   ]
  },
  {
   "attachments": {},
   "cell_type": "markdown",
   "metadata": {},
   "source": [
    "Import libraries"
   ]
  },
  {
   "cell_type": "code",
   "execution_count": 2,
   "metadata": {},
   "outputs": [],
   "source": [
    "import requests\n",
    "import numpy as np\n",
    "import pandas as pd\n",
    "from bs4 import BeautifulSoup as bs\n",
    "import xmltodict\n",
    "import json"
   ]
  },
  {
   "attachments": {},
   "cell_type": "markdown",
   "metadata": {},
   "source": [
    "Get Data From API"
   ]
  },
  {
   "cell_type": "code",
   "execution_count": 3,
   "metadata": {},
   "outputs": [],
   "source": [
    "def getData(pageNo):\n",
    "\n",
    "    # init setting\n",
    "    baseUrl = 'http://apis.data.go.kr/1300000/MJBGJWJeopSuHH3/list'\n",
    "    serviceKey = 'y%2BYI%2F3eYALrp6Z4%2Ff%2FoPhqKdk6hRwGfJqfxHVj98JuneHV6EeE5NqPEWVdsnmd2Rs4LJv9hFoJhOgNbB6E0TBQ%3D%3D'\n",
    "    numOfRows = 1000\n",
    "    \n",
    "    # get request\n",
    "    endPoint = f'{baseUrl}?pageNo={pageNo}&numOfRows={numOfRows}&ServiceKey={serviceKey}'\n",
    "    response = requests.get(endPoint)\n",
    "    if (response.status_code !=200):\n",
    "        raise Exception('Invalid Error')\n",
    "\n",
    "    # xml to json\n",
    "    data_dict = xmltodict.parse(response.text)\n",
    "       \n",
    "    return data_dict"
   ]
  },
  {
   "attachments": {},
   "cell_type": "markdown",
   "metadata": {},
   "source": [
    "Get Sample Data\n",
    "\n",
    "    There's 866 rows    \n",
    "    \n",
    "    So that to get all data, it's sufficient to get page 1 with parameter numOfRows 1000"
   ]
  },
  {
   "cell_type": "code",
   "execution_count": 4,
   "metadata": {},
   "outputs": [
    {
     "name": "stdout",
     "output_type": "stream",
     "text": [
      "Total Elements : 866\n"
     ]
    }
   ],
   "source": [
    "sampleData = getData(pageNo=1)\n",
    "print(f\"Total Elements : {sampleData['response']['body']['totalCount']}\")"
   ]
  },
  {
   "attachments": {},
   "cell_type": "markdown",
   "metadata": {},
   "source": [
    "Parsing Data\n",
    "\n",
    "- mojipYy : 모집년도\n",
    "- iyyjsijakYm : 입영시작월\n",
    "- mojipYy : 모집년도\n",
    "- gsteukgiCd : 군사특기명\n",
    "- seonbalPcnt : 선발인원수"
   ]
  },
  {
   "cell_type": "code",
   "execution_count": 5,
   "metadata": {},
   "outputs": [
    {
     "name": "stdout",
     "output_type": "stream",
     "text": [
      "Dataframe has shape with 866\n"
     ]
    },
    {
     "data": {
      "text/html": [
       "<div>\n",
       "<style scoped>\n",
       "    .dataframe tbody tr th:only-of-type {\n",
       "        vertical-align: middle;\n",
       "    }\n",
       "\n",
       "    .dataframe tbody tr th {\n",
       "        vertical-align: top;\n",
       "    }\n",
       "\n",
       "    .dataframe thead th {\n",
       "        text-align: right;\n",
       "    }\n",
       "</style>\n",
       "<table border=\"1\" class=\"dataframe\">\n",
       "  <thead>\n",
       "    <tr style=\"text-align: right;\">\n",
       "      <th></th>\n",
       "      <th>extremes</th>\n",
       "      <th>gsteukgiCd</th>\n",
       "      <th>gsteukgiNm</th>\n",
       "      <th>gunGbnm</th>\n",
       "      <th>iybudaeCdm</th>\n",
       "      <th>iyyjjongryoYm</th>\n",
       "      <th>iyyjsijakYm</th>\n",
       "      <th>jeopsuJrdtm</th>\n",
       "      <th>jeopsuPcnt</th>\n",
       "      <th>jeopsuSjdtm</th>\n",
       "      <th>mojipGbnm</th>\n",
       "      <th>mojipTms</th>\n",
       "      <th>mojipYy</th>\n",
       "      <th>rate</th>\n",
       "      <th>rnum</th>\n",
       "      <th>seonbalPcnt</th>\n",
       "    </tr>\n",
       "  </thead>\n",
       "  <tbody>\n",
       "    <tr>\n",
       "      <th>0</th>\n",
       "      <td>88</td>\n",
       "      <td>A001</td>\n",
       "      <td>동반입대병</td>\n",
       "      <td>육군</td>\n",
       "      <td>7사단</td>\n",
       "      <td>202305</td>\n",
       "      <td>202305</td>\n",
       "      <td>20230206</td>\n",
       "      <td>202</td>\n",
       "      <td>20230130</td>\n",
       "      <td>동반입대병</td>\n",
       "      <td>2</td>\n",
       "      <td>2023</td>\n",
       "      <td>1.8</td>\n",
       "      <td>1</td>\n",
       "      <td>114</td>\n",
       "    </tr>\n",
       "    <tr>\n",
       "      <th>1</th>\n",
       "      <td>84</td>\n",
       "      <td>A001</td>\n",
       "      <td>동반입대병</td>\n",
       "      <td>육군</td>\n",
       "      <td>12사단</td>\n",
       "      <td>202305</td>\n",
       "      <td>202305</td>\n",
       "      <td>20230206</td>\n",
       "      <td>200</td>\n",
       "      <td>20230130</td>\n",
       "      <td>동반입대병</td>\n",
       "      <td>2</td>\n",
       "      <td>2023</td>\n",
       "      <td>1.7</td>\n",
       "      <td>2</td>\n",
       "      <td>116</td>\n",
       "    </tr>\n",
       "    <tr>\n",
       "      <th>2</th>\n",
       "      <td>86</td>\n",
       "      <td>A001</td>\n",
       "      <td>동반입대병</td>\n",
       "      <td>육군</td>\n",
       "      <td>15사단</td>\n",
       "      <td>202305</td>\n",
       "      <td>202305</td>\n",
       "      <td>20230206</td>\n",
       "      <td>200</td>\n",
       "      <td>20230130</td>\n",
       "      <td>동반입대병</td>\n",
       "      <td>2</td>\n",
       "      <td>2023</td>\n",
       "      <td>1.8</td>\n",
       "      <td>3</td>\n",
       "      <td>114</td>\n",
       "    </tr>\n",
       "    <tr>\n",
       "      <th>3</th>\n",
       "      <td>90</td>\n",
       "      <td>A001</td>\n",
       "      <td>동반입대병</td>\n",
       "      <td>육군</td>\n",
       "      <td>21사단</td>\n",
       "      <td>202305</td>\n",
       "      <td>202305</td>\n",
       "      <td>20230206</td>\n",
       "      <td>200</td>\n",
       "      <td>20230130</td>\n",
       "      <td>동반입대병</td>\n",
       "      <td>2</td>\n",
       "      <td>2023</td>\n",
       "      <td>1.8</td>\n",
       "      <td>4</td>\n",
       "      <td>110</td>\n",
       "    </tr>\n",
       "    <tr>\n",
       "      <th>4</th>\n",
       "      <td>170</td>\n",
       "      <td>A001</td>\n",
       "      <td>동반입대병</td>\n",
       "      <td>육군</td>\n",
       "      <td>1사단</td>\n",
       "      <td>202305</td>\n",
       "      <td>202305</td>\n",
       "      <td>20230206</td>\n",
       "      <td>288</td>\n",
       "      <td>20230130</td>\n",
       "      <td>동반입대병</td>\n",
       "      <td>2</td>\n",
       "      <td>2023</td>\n",
       "      <td>2.4</td>\n",
       "      <td>5</td>\n",
       "      <td>118</td>\n",
       "    </tr>\n",
       "  </tbody>\n",
       "</table>\n",
       "</div>"
      ],
      "text/plain": [
       "  extremes gsteukgiCd gsteukgiNm gunGbnm iybudaeCdm iyyjjongryoYm iyyjsijakYm   \n",
       "0       88       A001      동반입대병      육군        7사단        202305      202305  \\\n",
       "1       84       A001      동반입대병      육군       12사단        202305      202305   \n",
       "2       86       A001      동반입대병      육군       15사단        202305      202305   \n",
       "3       90       A001      동반입대병      육군       21사단        202305      202305   \n",
       "4      170       A001      동반입대병      육군        1사단        202305      202305   \n",
       "\n",
       "  jeopsuJrdtm jeopsuPcnt jeopsuSjdtm mojipGbnm mojipTms mojipYy rate rnum   \n",
       "0    20230206        202    20230130     동반입대병        2    2023  1.8    1  \\\n",
       "1    20230206        200    20230130     동반입대병        2    2023  1.7    2   \n",
       "2    20230206        200    20230130     동반입대병        2    2023  1.8    3   \n",
       "3    20230206        200    20230130     동반입대병        2    2023  1.8    4   \n",
       "4    20230206        288    20230130     동반입대병        2    2023  2.4    5   \n",
       "\n",
       "  seonbalPcnt  \n",
       "0         114  \n",
       "1         116  \n",
       "2         114  \n",
       "3         110  \n",
       "4         118  "
      ]
     },
     "execution_count": 5,
     "metadata": {},
     "output_type": "execute_result"
    }
   ],
   "source": [
    "df = pd.DataFrame(sampleData['response']['body']['items']['item'])\n",
    "print(f'Dataframe has shape with {df.shape[0]}')\n",
    "df.head()"
   ]
  },
  {
   "attachments": {},
   "cell_type": "markdown",
   "metadata": {},
   "source": [
    "Save Raw Data"
   ]
  },
  {
   "cell_type": "code",
   "execution_count": 6,
   "metadata": {},
   "outputs": [],
   "source": [
    "df.to_csv(\"raw_data.csv\", index=False)"
   ]
  }
 ],
 "metadata": {
  "kernelspec": {
   "display_name": "Python 3",
   "language": "python",
   "name": "python3"
  },
  "language_info": {
   "codemirror_mode": {
    "name": "ipython",
    "version": 3
   },
   "file_extension": ".py",
   "mimetype": "text/x-python",
   "name": "python",
   "nbconvert_exporter": "python",
   "pygments_lexer": "ipython3",
   "version": "3.11.0"
  },
  "orig_nbformat": 4
 },
 "nbformat": 4,
 "nbformat_minor": 2
}
